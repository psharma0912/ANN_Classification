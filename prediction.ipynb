{
 "cells": [
  {
   "cell_type": "code",
   "execution_count": 31,
   "metadata": {},
   "outputs": [],
   "source": [
    "#We need to load the pixkled files because we need them for prediction. First import the necessary libraries\n",
    "import numpy as np\n",
    "import pandas as pd\n",
    "import tensorflow as tf\n",
    "from tensorflow.keras.models import load_model\n",
    "import pickle\n",
    "from sklearn.preprocessing import StandardScaler, LabelEncoder, OneHotEncoder\n",
    "import warnings\n",
    "warnings.filterwarnings(\"ignore\", category=DeprecationWarning)"
   ]
  },
  {
   "cell_type": "code",
   "execution_count": 32,
   "metadata": {},
   "outputs": [],
   "source": [
    "#load the ANN trained model, three pickled files: labl_encoder_gender, label_encoder_geo, scaler.pkl#\n",
    "model = load_model('model.h5')\n",
    "\n",
    "# #load encoder and scaler\n",
    "with open('onehot_encoder_gender.pkl', 'rb') as file:\n",
    "     one_hot_encoder_gen= pickle.load(file)\n",
    "with open('onehot_encoder_geo.pkl', 'rb') as file:\n",
    "     one_hot_encoder_geo= pickle.load(file)\n",
    "\n",
    "# # Load the scaler\n",
    "with open('scaler.pkl', 'rb') as file:\n",
    "    scaler = pickle.load(file)"
   ]
  },
  {
   "cell_type": "code",
   "execution_count": 33,
   "metadata": {},
   "outputs": [],
   "source": [
    "input_data = {\n",
    "        'CreditScore' : 600, \n",
    "        'Geography' : 'France',\n",
    "        'Gender' : 'Female',\n",
    "        'Age' : 80,\n",
    "        'Tenure' : 3,\n",
    "        'Balance' : 60000,\n",
    "        'NumOfProducts' : 2, \n",
    "        'HasCrCard' :0,\n",
    "        'IsActiveMember' : 0, \n",
    "        'EstimatedSalary': 50000 }"
   ]
  },
  {
   "cell_type": "code",
   "execution_count": 34,
   "metadata": {},
   "outputs": [],
   "source": [
    "\n",
    "# Convert input_data to DataFrame\n",
    "input_df = pd.DataFrame([input_data])\n",
    "input_df\n",
    "\n",
    "geo_encoder=one_hot_encoder_geo.transform(input_df[['Geography']])\n",
    "geo_encoder\n",
    "\n",
    "geo_encoded_df = pd.DataFrame(geo_encoder, columns=one_hot_encoder_geo.get_feature_names_out(['Geography']))\n",
    "geo_encoded_df\n",
    "\n",
    "gen_encoder=one_hot_encoder_gen.transform(input_df[['Gender']])\n",
    "gen_encoder\n",
    "\n",
    "gen_encoded_df = pd.DataFrame(gen_encoder, columns=one_hot_encoder_gen.get_feature_names_out(['Gender']))\n",
    "gen_encoded_df\n",
    "\n",
    "# Drop the original categorical columns\n",
    "input_df = input_df.drop(['Geography', 'Gender'], axis=1)\n"
   ]
  },
  {
   "cell_type": "code",
   "execution_count": 35,
   "metadata": {},
   "outputs": [
    {
     "data": {
      "text/html": [
       "<div>\n",
       "<style scoped>\n",
       "    .dataframe tbody tr th:only-of-type {\n",
       "        vertical-align: middle;\n",
       "    }\n",
       "\n",
       "    .dataframe tbody tr th {\n",
       "        vertical-align: top;\n",
       "    }\n",
       "\n",
       "    .dataframe thead th {\n",
       "        text-align: right;\n",
       "    }\n",
       "</style>\n",
       "<table border=\"1\" class=\"dataframe\">\n",
       "  <thead>\n",
       "    <tr style=\"text-align: right;\">\n",
       "      <th></th>\n",
       "      <th>CreditScore</th>\n",
       "      <th>Age</th>\n",
       "      <th>Tenure</th>\n",
       "      <th>Balance</th>\n",
       "      <th>NumOfProducts</th>\n",
       "      <th>HasCrCard</th>\n",
       "      <th>IsActiveMember</th>\n",
       "      <th>EstimatedSalary</th>\n",
       "      <th>Gender_Female</th>\n",
       "      <th>Gender_Male</th>\n",
       "      <th>Geography_France</th>\n",
       "      <th>Geography_Germany</th>\n",
       "      <th>Geography_Spain</th>\n",
       "    </tr>\n",
       "  </thead>\n",
       "  <tbody>\n",
       "    <tr>\n",
       "      <th>0</th>\n",
       "      <td>600</td>\n",
       "      <td>80</td>\n",
       "      <td>3</td>\n",
       "      <td>60000</td>\n",
       "      <td>2</td>\n",
       "      <td>0</td>\n",
       "      <td>0</td>\n",
       "      <td>50000</td>\n",
       "      <td>1.0</td>\n",
       "      <td>0.0</td>\n",
       "      <td>1.0</td>\n",
       "      <td>0.0</td>\n",
       "      <td>0.0</td>\n",
       "    </tr>\n",
       "  </tbody>\n",
       "</table>\n",
       "</div>"
      ],
      "text/plain": [
       "   CreditScore  Age  Tenure  Balance  NumOfProducts  HasCrCard  \\\n",
       "0          600   80       3    60000              2          0   \n",
       "\n",
       "   IsActiveMember  EstimatedSalary  Gender_Female  Gender_Male  \\\n",
       "0               0            50000            1.0          0.0   \n",
       "\n",
       "   Geography_France  Geography_Germany  Geography_Spain  \n",
       "0               1.0                0.0              0.0  "
      ]
     },
     "execution_count": 35,
     "metadata": {},
     "output_type": "execute_result"
    }
   ],
   "source": [
    "input_df = pd.concat([input_df,gen_encoded_df,geo_encoded_df], axis=1)\n",
    "input_df"
   ]
  },
  {
   "cell_type": "code",
   "execution_count": 36,
   "metadata": {},
   "outputs": [
    {
     "name": "stdout",
     "output_type": "stream",
     "text": [
      "WARNING:tensorflow:6 out of the last 6 calls to <function Model.make_predict_function.<locals>.predict_function at 0x00000189414DFC40> triggered tf.function retracing. Tracing is expensive and the excessive number of tracings could be due to (1) creating @tf.function repeatedly in a loop, (2) passing tensors with different shapes, (3) passing Python objects instead of tensors. For (1), please define your @tf.function outside of the loop. For (2), @tf.function has reduce_retracing=True option that can avoid unnecessary retracing. For (3), please refer to https://www.tensorflow.org/guide/function#controlling_retracing and https://www.tensorflow.org/api_docs/python/tf/function for  more details.\n",
      "1/1 [==============================] - 0s 101ms/step\n",
      "0.6525171\n",
      "The person is likely to churn\n"
     ]
    }
   ],
   "source": [
    "\n",
    "# Scale the input features using the loaded scaler\n",
    "scaled_input = scaler.transform(input_df)\n",
    "scaled_input\n",
    "\n",
    "\n",
    "# # Make prediction\n",
    "prediction = model.predict(scaled_input)\n",
    "prediction_prob=prediction[0][0]\n",
    "print(prediction_prob)\n",
    "\n",
    "if (prediction_prob > 0.5):\n",
    "   print('The person is likely to churn')\n",
    "else:\n",
    "  print('The person is not likely to churn')\n"
   ]
  },
  {
   "cell_type": "markdown",
   "metadata": {},
   "source": [
    "### Need to create the streamlit app which will be done in app.py\n"
   ]
  }
 ],
 "metadata": {
  "kernelspec": {
   "display_name": "myenv",
   "language": "python",
   "name": "myenv"
  },
  "language_info": {
   "codemirror_mode": {
    "name": "ipython",
    "version": 3
   },
   "file_extension": ".py",
   "mimetype": "text/x-python",
   "name": "python",
   "nbconvert_exporter": "python",
   "pygments_lexer": "ipython3",
   "version": "3.11.9"
  }
 },
 "nbformat": 4,
 "nbformat_minor": 2
}
